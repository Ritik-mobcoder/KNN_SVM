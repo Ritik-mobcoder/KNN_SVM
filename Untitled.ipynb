{
 "cells": [
  {
   "cell_type": "markdown",
   "id": "e7a4b198-56f7-4e9a-be27-763a981a8eda",
   "metadata": {},
   "source": [
    "#Knn"
   ]
  },
  {
   "cell_type": "code",
   "execution_count": null,
   "id": "e9eb9fbb-05ce-4355-9086-51a3227965ba",
   "metadata": {},
   "outputs": [],
   "source": [
    "from sklearn.dataset import make"
   ]
  },
  {
   "cell_type": "code",
   "execution_count": null,
   "id": "6247ecb1-2c35-4685-9642-8486d86b6594",
   "metadata": {},
   "outputs": [],
   "source": [
    "class Kmeans:\n",
    "    def __init__(self,n"
   ]
  }
 ],
 "metadata": {
  "kernelspec": {
   "display_name": "Python 3 (ipykernel)",
   "language": "python",
   "name": "python3"
  },
  "language_info": {
   "codemirror_mode": {
    "name": "ipython",
    "version": 3
   },
   "file_extension": ".py",
   "mimetype": "text/x-python",
   "name": "python",
   "nbconvert_exporter": "python",
   "pygments_lexer": "ipython3",
   "version": "3.11.10"
  }
 },
 "nbformat": 4,
 "nbformat_minor": 5
}
